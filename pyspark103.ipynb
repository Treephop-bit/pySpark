{
 "cells": [
  {
   "cell_type": "markdown",
   "metadata": {},
   "source": [
    "### Pyspark Handle Missing Values"
   ]
  },
  {
   "cell_type": "code",
   "execution_count": 1,
   "metadata": {},
   "outputs": [],
   "source": [
    "from pyspark.sql import SparkSession\n",
    "spark=SparkSession.builder.appName('Practice2').getOrCreate()"
   ]
  },
  {
   "cell_type": "code",
   "execution_count": 3,
   "metadata": {},
   "outputs": [
    {
     "name": "stdout",
     "output_type": "stream",
     "text": [
      "+-------+----+----------+------+\n",
      "|   name| age|experience|salary|\n",
      "+-------+----+----------+------+\n",
      "|  Alice|  25|         3| 30000|\n",
      "|    Bob|  30|         5| 25000|\n",
      "|Charlie|  35|         8| 20000|\n",
      "|  Sunny|  24|         3| 15000|\n",
      "|   Paul|  21|         2| 18000|\n",
      "| Harsha|  23|         1| 40000|\n",
      "|Shubham|NULL|      NULL| 30000|\n",
      "|   NULL|  34|        10| 38000|\n",
      "|   NULL|  33|      NULL|  NULL|\n",
      "+-------+----+----------+------+\n",
      "\n"
     ]
    }
   ],
   "source": [
    "spark.read.csv('Book3.csv',header=True,inferSchema=True).show()"
   ]
  },
  {
   "cell_type": "code",
   "execution_count": 4,
   "metadata": {},
   "outputs": [],
   "source": [
    "df_pyspark = spark.read.csv('Book3.csv',header=True,inferSchema=True)"
   ]
  },
  {
   "cell_type": "code",
   "execution_count": 5,
   "metadata": {},
   "outputs": [
    {
     "name": "stdout",
     "output_type": "stream",
     "text": [
      "+-------+----+----------+------+\n",
      "|   name| age|experience|salary|\n",
      "+-------+----+----------+------+\n",
      "|  Alice|  25|         3| 30000|\n",
      "|    Bob|  30|         5| 25000|\n",
      "|Charlie|  35|         8| 20000|\n",
      "|  Sunny|  24|         3| 15000|\n",
      "|   Paul|  21|         2| 18000|\n",
      "| Harsha|  23|         1| 40000|\n",
      "|Shubham|NULL|      NULL| 30000|\n",
      "|   NULL|  34|        10| 38000|\n",
      "|   NULL|  33|      NULL|  NULL|\n",
      "+-------+----+----------+------+\n",
      "\n"
     ]
    }
   ],
   "source": [
    "df_pyspark.show()"
   ]
  },
  {
   "cell_type": "code",
   "execution_count": 6,
   "metadata": {},
   "outputs": [
    {
     "name": "stdout",
     "output_type": "stream",
     "text": [
      "+-------+---+----------+------+\n",
      "|   name|age|experience|salary|\n",
      "+-------+---+----------+------+\n",
      "|  Alice| 25|         3| 30000|\n",
      "|    Bob| 30|         5| 25000|\n",
      "|Charlie| 35|         8| 20000|\n",
      "|  Sunny| 24|         3| 15000|\n",
      "|   Paul| 21|         2| 18000|\n",
      "| Harsha| 23|         1| 40000|\n",
      "+-------+---+----------+------+\n",
      "\n"
     ]
    }
   ],
   "source": [
    "df_pyspark.na.drop().show() \n",
    "\n",
    "# all the rows that had NA will drop"
   ]
  },
  {
   "cell_type": "code",
   "execution_count": 8,
   "metadata": {},
   "outputs": [
    {
     "name": "stdout",
     "output_type": "stream",
     "text": [
      "+-------+---+----------+------+\n",
      "|   name|age|experience|salary|\n",
      "+-------+---+----------+------+\n",
      "|  Alice| 25|         3| 30000|\n",
      "|    Bob| 30|         5| 25000|\n",
      "|Charlie| 35|         8| 20000|\n",
      "|  Sunny| 24|         3| 15000|\n",
      "|   Paul| 21|         2| 18000|\n",
      "| Harsha| 23|         1| 40000|\n",
      "+-------+---+----------+------+\n",
      "\n"
     ]
    }
   ],
   "source": [
    "### any == how\n",
    "df_pyspark.na.drop(how='any').show() #defult is 'any' / 'all' need to have all value in single rows -> NA"
   ]
  },
  {
   "cell_type": "code",
   "execution_count": 12,
   "metadata": {},
   "outputs": [
    {
     "name": "stdout",
     "output_type": "stream",
     "text": [
      "+-------+----+----------+------+\n",
      "|   name| age|experience|salary|\n",
      "+-------+----+----------+------+\n",
      "|  Alice|  25|         3| 30000|\n",
      "|    Bob|  30|         5| 25000|\n",
      "|Charlie|  35|         8| 20000|\n",
      "|  Sunny|  24|         3| 15000|\n",
      "|   Paul|  21|         2| 18000|\n",
      "| Harsha|  23|         1| 40000|\n",
      "|Shubham|NULL|      NULL| 30000|\n",
      "|   NULL|  34|        10| 38000|\n",
      "+-------+----+----------+------+\n",
      "\n"
     ]
    }
   ],
   "source": [
    "## threshold\n",
    "df_pyspark.na.drop(how='any',thresh=2).show() "
   ]
  },
  {
   "cell_type": "code",
   "execution_count": 13,
   "metadata": {},
   "outputs": [
    {
     "name": "stdout",
     "output_type": "stream",
     "text": [
      "+-------+---+----------+------+\n",
      "|   name|age|experience|salary|\n",
      "+-------+---+----------+------+\n",
      "|  Alice| 25|         3| 30000|\n",
      "|    Bob| 30|         5| 25000|\n",
      "|Charlie| 35|         8| 20000|\n",
      "|  Sunny| 24|         3| 15000|\n",
      "|   Paul| 21|         2| 18000|\n",
      "| Harsha| 23|         1| 40000|\n",
      "|   NULL| 34|        10| 38000|\n",
      "|   NULL| 33|      NULL|  NULL|\n",
      "+-------+---+----------+------+\n",
      "\n"
     ]
    }
   ],
   "source": [
    "## subset\n",
    "df_pyspark.na.drop(how='any',subset=['age']).show()"
   ]
  },
  {
   "cell_type": "code",
   "execution_count": 15,
   "metadata": {},
   "outputs": [
    {
     "name": "stdout",
     "output_type": "stream",
     "text": [
      "+--------------+----+----------+------+\n",
      "|          name| age|experience|salary|\n",
      "+--------------+----+----------+------+\n",
      "|         Alice|  25|         3| 30000|\n",
      "|           Bob|  30|         5| 25000|\n",
      "|       Charlie|  35|         8| 20000|\n",
      "|         Sunny|  24|         3| 15000|\n",
      "|          Paul|  21|         2| 18000|\n",
      "|        Harsha|  23|         1| 40000|\n",
      "|       Shubham|NULL|      NULL| 30000|\n",
      "|Missing Values|  34|        10| 38000|\n",
      "|Missing Values|  33|      NULL|  NULL|\n",
      "+--------------+----+----------+------+\n",
      "\n"
     ]
    }
   ],
   "source": [
    "## filling the missing value\n",
    "\n",
    "df_pyspark.na.fill('Missing Values').show()"
   ]
  },
  {
   "cell_type": "code",
   "execution_count": 16,
   "metadata": {},
   "outputs": [],
   "source": [
    "## fill na with mean value by create new columns\n",
    "from pyspark.ml.feature import Imputer\n",
    "\n",
    "imputer = Imputer(\n",
    "    inputCols=['age','experience','salary'],\n",
    "    outputCols=['{}_imputed'.format(c) for c in ['age', 'experience', 'salary']]\n",
    ").setStrategy(\"mean\")"
   ]
  },
  {
   "cell_type": "code",
   "execution_count": 17,
   "metadata": {},
   "outputs": [
    {
     "name": "stdout",
     "output_type": "stream",
     "text": [
      "+-------+----+----------+------+-----------+------------------+--------------+\n",
      "|   name| age|experience|salary|age_imputed|experience_imputed|salary_imputed|\n",
      "+-------+----+----------+------+-----------+------------------+--------------+\n",
      "|  Alice|  25|         3| 30000|         25|                 3|         30000|\n",
      "|    Bob|  30|         5| 25000|         30|                 5|         25000|\n",
      "|Charlie|  35|         8| 20000|         35|                 8|         20000|\n",
      "|  Sunny|  24|         3| 15000|         24|                 3|         15000|\n",
      "|   Paul|  21|         2| 18000|         21|                 2|         18000|\n",
      "| Harsha|  23|         1| 40000|         23|                 1|         40000|\n",
      "|Shubham|NULL|      NULL| 30000|         28|                 4|         30000|\n",
      "|   NULL|  34|        10| 38000|         34|                10|         38000|\n",
      "|   NULL|  33|      NULL|  NULL|         33|                 4|         27000|\n",
      "+-------+----+----------+------+-----------+------------------+--------------+\n",
      "\n"
     ]
    }
   ],
   "source": [
    "imputer.fit(df_pyspark).transform(df_pyspark).show()"
   ]
  },
  {
   "cell_type": "code",
   "execution_count": null,
   "metadata": {},
   "outputs": [],
   "source": []
  }
 ],
 "metadata": {
  "kernelspec": {
   "display_name": ".venv",
   "language": "python",
   "name": "python3"
  },
  "language_info": {
   "codemirror_mode": {
    "name": "ipython",
    "version": 3
   },
   "file_extension": ".py",
   "mimetype": "text/x-python",
   "name": "python",
   "nbconvert_exporter": "python",
   "pygments_lexer": "ipython3",
   "version": "3.12.3"
  }
 },
 "nbformat": 4,
 "nbformat_minor": 2
}
